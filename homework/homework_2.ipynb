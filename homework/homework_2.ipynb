{
 "cells": [
  {
   "cell_type": "markdown",
   "id": "7a773c8c",
   "metadata": {},
   "source": [
    "# 0. Utilities & Preparing Data"
   ]
  },
  {
   "cell_type": "code",
   "execution_count": 1,
   "id": "98bcec64",
   "metadata": {},
   "outputs": [],
   "source": [
    "import pandas as pd\n",
    "import numpy as np\n",
    "import matplotlib.pyplot as plt\n",
    "import seaborn as sns"
   ]
  },
  {
   "cell_type": "code",
   "execution_count": 40,
   "id": "631d09d6",
   "metadata": {},
   "outputs": [
    {
     "data": {
      "text/html": [
       "<div>\n",
       "<style scoped>\n",
       "    .dataframe tbody tr th:only-of-type {\n",
       "        vertical-align: middle;\n",
       "    }\n",
       "\n",
       "    .dataframe tbody tr th {\n",
       "        vertical-align: top;\n",
       "    }\n",
       "\n",
       "    .dataframe thead th {\n",
       "        text-align: right;\n",
       "    }\n",
       "</style>\n",
       "<table border=\"1\" class=\"dataframe\">\n",
       "  <thead>\n",
       "    <tr style=\"text-align: right;\">\n",
       "      <th></th>\n",
       "      <th>engine_displacement</th>\n",
       "      <th>num_cylinders</th>\n",
       "      <th>horsepower</th>\n",
       "      <th>vehicle_weight</th>\n",
       "      <th>acceleration</th>\n",
       "      <th>model_year</th>\n",
       "      <th>origin</th>\n",
       "      <th>fuel_type</th>\n",
       "      <th>drivetrain</th>\n",
       "      <th>num_doors</th>\n",
       "      <th>fuel_efficiency_mpg</th>\n",
       "    </tr>\n",
       "  </thead>\n",
       "  <tbody>\n",
       "    <tr>\n",
       "      <th>0</th>\n",
       "      <td>170</td>\n",
       "      <td>3.0</td>\n",
       "      <td>159.0</td>\n",
       "      <td>3413.433759</td>\n",
       "      <td>17.7</td>\n",
       "      <td>2003</td>\n",
       "      <td>Europe</td>\n",
       "      <td>Gasoline</td>\n",
       "      <td>All-wheel drive</td>\n",
       "      <td>0.0</td>\n",
       "      <td>13.231729</td>\n",
       "    </tr>\n",
       "    <tr>\n",
       "      <th>1</th>\n",
       "      <td>130</td>\n",
       "      <td>5.0</td>\n",
       "      <td>97.0</td>\n",
       "      <td>3149.664934</td>\n",
       "      <td>17.8</td>\n",
       "      <td>2007</td>\n",
       "      <td>USA</td>\n",
       "      <td>Gasoline</td>\n",
       "      <td>Front-wheel drive</td>\n",
       "      <td>0.0</td>\n",
       "      <td>13.688217</td>\n",
       "    </tr>\n",
       "    <tr>\n",
       "      <th>2</th>\n",
       "      <td>170</td>\n",
       "      <td>NaN</td>\n",
       "      <td>78.0</td>\n",
       "      <td>3079.038997</td>\n",
       "      <td>15.1</td>\n",
       "      <td>2018</td>\n",
       "      <td>Europe</td>\n",
       "      <td>Gasoline</td>\n",
       "      <td>Front-wheel drive</td>\n",
       "      <td>0.0</td>\n",
       "      <td>14.246341</td>\n",
       "    </tr>\n",
       "    <tr>\n",
       "      <th>3</th>\n",
       "      <td>220</td>\n",
       "      <td>4.0</td>\n",
       "      <td>NaN</td>\n",
       "      <td>2542.392402</td>\n",
       "      <td>20.2</td>\n",
       "      <td>2009</td>\n",
       "      <td>USA</td>\n",
       "      <td>Diesel</td>\n",
       "      <td>All-wheel drive</td>\n",
       "      <td>2.0</td>\n",
       "      <td>16.912736</td>\n",
       "    </tr>\n",
       "    <tr>\n",
       "      <th>4</th>\n",
       "      <td>210</td>\n",
       "      <td>1.0</td>\n",
       "      <td>140.0</td>\n",
       "      <td>3460.870990</td>\n",
       "      <td>14.4</td>\n",
       "      <td>2009</td>\n",
       "      <td>Europe</td>\n",
       "      <td>Gasoline</td>\n",
       "      <td>All-wheel drive</td>\n",
       "      <td>2.0</td>\n",
       "      <td>12.488369</td>\n",
       "    </tr>\n",
       "  </tbody>\n",
       "</table>\n",
       "</div>"
      ],
      "text/plain": [
       "   engine_displacement  num_cylinders  horsepower  vehicle_weight  \\\n",
       "0                  170            3.0       159.0     3413.433759   \n",
       "1                  130            5.0        97.0     3149.664934   \n",
       "2                  170            NaN        78.0     3079.038997   \n",
       "3                  220            4.0         NaN     2542.392402   \n",
       "4                  210            1.0       140.0     3460.870990   \n",
       "\n",
       "   acceleration  model_year  origin fuel_type         drivetrain  num_doors  \\\n",
       "0          17.7        2003  Europe  Gasoline    All-wheel drive        0.0   \n",
       "1          17.8        2007     USA  Gasoline  Front-wheel drive        0.0   \n",
       "2          15.1        2018  Europe  Gasoline  Front-wheel drive        0.0   \n",
       "3          20.2        2009     USA    Diesel    All-wheel drive        2.0   \n",
       "4          14.4        2009  Europe  Gasoline    All-wheel drive        2.0   \n",
       "\n",
       "   fuel_efficiency_mpg  \n",
       "0            13.231729  \n",
       "1            13.688217  \n",
       "2            14.246341  \n",
       "3            16.912736  \n",
       "4            12.488369  "
      ]
     },
     "execution_count": 40,
     "metadata": {},
     "output_type": "execute_result"
    }
   ],
   "source": [
    "url = \"https://raw.githubusercontent.com/alexeygrigorev/datasets/master/car_fuel_efficiency.csv\"\n",
    "df = pd.read_csv(url)\n",
    "df.head()"
   ]
  },
  {
   "cell_type": "code",
   "execution_count": 41,
   "id": "be825137",
   "metadata": {},
   "outputs": [
    {
     "data": {
      "text/html": [
       "<div>\n",
       "<style scoped>\n",
       "    .dataframe tbody tr th:only-of-type {\n",
       "        vertical-align: middle;\n",
       "    }\n",
       "\n",
       "    .dataframe tbody tr th {\n",
       "        vertical-align: top;\n",
       "    }\n",
       "\n",
       "    .dataframe thead th {\n",
       "        text-align: right;\n",
       "    }\n",
       "</style>\n",
       "<table border=\"1\" class=\"dataframe\">\n",
       "  <thead>\n",
       "    <tr style=\"text-align: right;\">\n",
       "      <th></th>\n",
       "      <th>engine_displacement</th>\n",
       "      <th>horsepower</th>\n",
       "      <th>vehicle_weight</th>\n",
       "      <th>model_year</th>\n",
       "      <th>fuel_efficiency_mpg</th>\n",
       "    </tr>\n",
       "  </thead>\n",
       "  <tbody>\n",
       "    <tr>\n",
       "      <th>0</th>\n",
       "      <td>170</td>\n",
       "      <td>159.0</td>\n",
       "      <td>3413.433759</td>\n",
       "      <td>2003</td>\n",
       "      <td>13.231729</td>\n",
       "    </tr>\n",
       "    <tr>\n",
       "      <th>1</th>\n",
       "      <td>130</td>\n",
       "      <td>97.0</td>\n",
       "      <td>3149.664934</td>\n",
       "      <td>2007</td>\n",
       "      <td>13.688217</td>\n",
       "    </tr>\n",
       "    <tr>\n",
       "      <th>2</th>\n",
       "      <td>170</td>\n",
       "      <td>78.0</td>\n",
       "      <td>3079.038997</td>\n",
       "      <td>2018</td>\n",
       "      <td>14.246341</td>\n",
       "    </tr>\n",
       "    <tr>\n",
       "      <th>3</th>\n",
       "      <td>220</td>\n",
       "      <td>NaN</td>\n",
       "      <td>2542.392402</td>\n",
       "      <td>2009</td>\n",
       "      <td>16.912736</td>\n",
       "    </tr>\n",
       "    <tr>\n",
       "      <th>4</th>\n",
       "      <td>210</td>\n",
       "      <td>140.0</td>\n",
       "      <td>3460.870990</td>\n",
       "      <td>2009</td>\n",
       "      <td>12.488369</td>\n",
       "    </tr>\n",
       "  </tbody>\n",
       "</table>\n",
       "</div>"
      ],
      "text/plain": [
       "   engine_displacement  horsepower  vehicle_weight  model_year  \\\n",
       "0                  170       159.0     3413.433759        2003   \n",
       "1                  130        97.0     3149.664934        2007   \n",
       "2                  170        78.0     3079.038997        2018   \n",
       "3                  220         NaN     2542.392402        2009   \n",
       "4                  210       140.0     3460.870990        2009   \n",
       "\n",
       "   fuel_efficiency_mpg  \n",
       "0            13.231729  \n",
       "1            13.688217  \n",
       "2            14.246341  \n",
       "3            16.912736  \n",
       "4            12.488369  "
      ]
     },
     "execution_count": 41,
     "metadata": {},
     "output_type": "execute_result"
    }
   ],
   "source": [
    "# Select a few columns\n",
    "df = df[['engine_displacement', 'horsepower', 'vehicle_weight', 'model_year', 'fuel_efficiency_mpg']]\n",
    "df.head()"
   ]
  },
  {
   "cell_type": "markdown",
   "id": "803e4641",
   "metadata": {},
   "source": [
    "# EDA"
   ]
  },
  {
   "cell_type": "code",
   "execution_count": 42,
   "id": "724a8230",
   "metadata": {},
   "outputs": [
    {
     "data": {
      "image/png": "[encoded data removed]",
      "text/plain": [
       "<Figure size 600x400 with 1 Axes>"
      ]
     },
     "metadata": {},
     "output_type": "display_data"
    }
   ],
   "source": [
    "plt.figure(figsize=(6, 4))\n",
    "\n",
    "sns.histplot(df.fuel_efficiency_mpg, bins=40, color='black', alpha=1)\n",
    "plt.ylabel('Frequency')\n",
    "plt.xlabel('Fuel Efficiency (MPG)')\n",
    "plt.title('Distribution of Fuel Efficiency')\n",
    "plt.show()"
   ]
  },
  {
   "cell_type": "markdown",
   "id": "6c1c2269",
   "metadata": {},
   "source": [
    "**Answer**: No long tail spotted!"
   ]
  },
  {
   "cell_type": "markdown",
   "id": "19f3328b",
   "metadata": {},
   "source": [
    "# 1. Missing Values\n",
    "There's one column with missing values. What is it?"
   ]
  },
  {
   "cell_type": "code",
   "execution_count": 43,
   "id": "c5166e26",
   "metadata": {},
   "outputs": [
    {
     "name": "stdout",
     "output_type": "stream",
     "text": [
      "Index(['horsepower'], dtype='object')\n"
     ]
    }
   ],
   "source": [
    "print(df.columns[df.isna().any()])"
   ]
  },
  {
   "cell_type": "markdown",
   "id": "b7ee3a0c",
   "metadata": {},
   "source": [
    "# 2 Median HP\n",
    "What's the median (50% percentile) for variable 'horsepower'?"
   ]
  },
  {
   "cell_type": "code",
   "execution_count": 44,
   "id": "48569379",
   "metadata": {},
   "outputs": [
    {
     "name": "stdout",
     "output_type": "stream",
     "text": [
      "149.0\n"
     ]
    }
   ],
   "source": [
    "print(np.median(df['horsepower'].dropna())) "
   ]
  },
  {
   "cell_type": "markdown",
   "id": "6e7afbc5",
   "metadata": {},
   "source": [
    "# Split the dataset"
   ]
  },
  {
   "cell_type": "code",
   "execution_count": 45,
   "id": "0497b11b",
   "metadata": {},
   "outputs": [],
   "source": [
    "np.random.seed(42)\n",
    "n = len(df)\n",
    "idx = np.arange(n)\n",
    "# print(idx)\n",
    "\n",
    "# Shuffle the ds idx\n",
    "np.random.shuffle(idx)\n",
    "# print(idx)"
   ]
  },
  {
   "cell_type": "code",
   "execution_count": 46,
   "id": "0509c32b",
   "metadata": {},
   "outputs": [],
   "source": [
    "# 60/20/20 distribution\n",
    "n_val = int(0.2 * n)\n",
    "n_test = int(0.2 * n)\n",
    "n_train = n - (n_val + n_test)\n",
    "\n",
    "df_train = df.iloc[idx[:n_train]]\n",
    "df_val = df.iloc[idx[n_train:n_train+n_val]]\n",
    "df_test = df.iloc[idx[n_train+n_val:]]"
   ]
  },
  {
   "cell_type": "markdown",
   "id": "ead8bfc9",
   "metadata": {},
   "source": [
    "# 3. Filling N/A"
   ]
  },
  {
   "cell_type": "code",
   "execution_count": 47,
   "id": "d7b0915d",
   "metadata": {},
   "outputs": [],
   "source": [
    "# Fill with 0s\n",
    "df_train_0 = df_train.fillna({'horsepower': 0})\n",
    "df_val_0 = df_val.fillna({'horsepower': 0})\n",
    "df_test_0 = df_test.fillna({'horsepower': 0})\n",
    "\n",
    "# Fill with mean\n",
    "train_mean_hp = df_train['horsepower'].mean()\n",
    "df_train_mean = df_train.fillna({'horsepower': train_mean_hp})\n",
    "df_val_mean   = df_val.fillna({'horsepower': train_mean_hp})\n",
    "df_test_mean  = df_test.fillna({'horsepower': train_mean_hp})"
   ]
  },
  {
   "cell_type": "code",
   "execution_count": 48,
   "id": "e0df7448",
   "metadata": {},
   "outputs": [],
   "source": [
    "# Getting X and  y columns\n",
    "def prepare_data(df):\n",
    "    X = df[['engine_displacement', 'horsepower', 'vehicle_weight', 'model_year']].values\n",
    "    y = df['fuel_efficiency_mpg'].values\n",
    "    return X, y\n",
    "\n",
    "# Linear regression model w/o regularization\n",
    "def train_linear_regression(X, y):\n",
    "    ones = np.ones(X.shape[0])\n",
    "    X = np.column_stack([ones, X])\n",
    "\n",
    "    XTX = X.T.dot(X)\n",
    "    XTX_inv = np.linalg.inv(XTX)\n",
    "    w = XTX_inv.dot(X.T).dot(y)\n",
    "    \n",
    "    return w[0], w[1:]\n",
    "\n",
    "# Inference function\n",
    "def infer_linear_regression(X, w0, w):\n",
    "    return w0 + X.dot(w)\n",
    "\n",
    "# RMSE function\n",
    "def rmse(y, y_pred, decimals=2):\n",
    "    return round(np.sqrt(((y - y_pred) ** 2).mean()), decimals)"
   ]
  },
  {
   "cell_type": "code",
   "execution_count": 49,
   "id": "190d080b",
   "metadata": {},
   "outputs": [
    {
     "name": "stdout",
     "output_type": "stream",
     "text": [
      "Train RMSE (fill 0): 0.52\n",
      "Val RMSE (fill 0): 0.52\n"
     ]
    },
    {
     "data": {
      "image/png": "[encoded data removed]",
      "text/plain": [
       "<Figure size 600x400 with 1 Axes>"
      ]
     },
     "metadata": {},
     "output_type": "display_data"
    }
   ],
   "source": [
    "# Training a linear regression model w/o regularization\n",
    "# 1. Fill with 0s\n",
    "X_train_0, y_train_gt = prepare_data(df_train_0)\n",
    "w0, w = train_linear_regression(X_train_0, y_train_gt)\n",
    "y_train_pred = infer_linear_regression(X_train_0, w0, w)\n",
    "print('Train RMSE (fill 0):', rmse(y_train_gt, y_train_pred))\n",
    "\n",
    "# Predict on validation set\n",
    "X_val_0, y_val_gt = prepare_data(df_val_0)\n",
    "y_val_pred = infer_linear_regression(X_val_0, w0, w)\n",
    "print('Val RMSE (fill 0):', rmse(y_val_gt, y_val_pred))\n",
    "\n",
    "# Plot predictions vs actuals (validation set)\n",
    "plt.figure(figsize=(6, 4))\n",
    "sns.histplot(y_val_gt, label='target', color='#222222', alpha=0.6, bins=40)\n",
    "sns.histplot(y_val_pred, label='prediction', color='#aaaaaa', alpha=0.8, bins=40)\n",
    "plt.legend()\n",
    "plt.ylabel('Frequency')\n",
    "plt.xlabel('Log(Price + 1)')\n",
    "plt.title('Predictions vs actual distribution')\n",
    "plt.show()"
   ]
  },
  {
   "cell_type": "code",
   "execution_count": 50,
   "id": "7d3277cb",
   "metadata": {},
   "outputs": [
    {
     "name": "stdout",
     "output_type": "stream",
     "text": [
      "Train RMSE (fill mean): 0.46\n",
      "Val RMSE (fill mean): 0.46\n"
     ]
    },
    {
     "data": {
      "image/png": "[encoded data removed]",
      "text/plain": [
       "<Figure size 600x400 with 1 Axes>"
      ]
     },
     "metadata": {},
     "output_type": "display_data"
    }
   ],
   "source": [
    "# 2. Fill with mean\n",
    "X_train_mean, y_train_gt = prepare_data(df_train_mean)\n",
    "w0, w = train_linear_regression(X_train_mean, y_train_gt)\n",
    "y_train_pred = infer_linear_regression(X_train_mean, w0, w)\n",
    "print('Train RMSE (fill mean):', rmse(y_train_gt, y_train_pred))\n",
    "\n",
    "# Predict on validation set\n",
    "X_val_mean, y_val_gt = prepare_data(df_val_mean)\n",
    "y_val_pred = infer_linear_regression(X_val_mean, w0, w)\n",
    "print('Val RMSE (fill mean):', rmse(y_val_gt, y_val_pred))\n",
    "\n",
    "# Plot predictions vs actuals (validation set)\n",
    "plt.figure(figsize=(6, 4))\n",
    "sns.histplot(y_val_gt, label='target', color='#222222', alpha=0.6, bins=40)\n",
    "sns.histplot(y_val_pred, label='prediction', color='#aaaaaa', alpha=0.8, bins=40)\n",
    "plt.legend()\n",
    "plt.ylabel('Frequency')\n",
    "plt.xlabel('Log(Price + 1)')\n",
    "plt.title('Predictions vs actual distribution')\n",
    "plt.show()"
   ]
  },
  {
   "cell_type": "markdown",
   "id": "644c13a0",
   "metadata": {},
   "source": [
    "**Answer:** filling with the mean value of `horsepower` improved model's performance (lower RMSE)."
   ]
  },
  {
   "cell_type": "markdown",
   "id": "923c4055",
   "metadata": {},
   "source": [
    "# 4. Regularized Linear Regression"
   ]
  },
  {
   "cell_type": "code",
   "execution_count": 51,
   "id": "6c860a3f",
   "metadata": {},
   "outputs": [],
   "source": [
    "def train_linear_regression_reg(X, y, r=0.0):\n",
    "    ones = np.ones(X.shape[0])\n",
    "    X = np.column_stack([ones, X])\n",
    "\n",
    "    XTX = X.T.dot(X)\n",
    "    reg = r * np.eye(XTX.shape[0])\n",
    "    XTX = XTX + reg\n",
    "\n",
    "    XTX_inv = np.linalg.inv(XTX)\n",
    "    w = XTX_inv.dot(X.T).dot(y)\n",
    "    \n",
    "    return w[0], w[1:]"
   ]
  },
  {
   "cell_type": "code",
   "execution_count": 55,
   "id": "6ec70fcd",
   "metadata": {},
   "outputs": [
    {
     "name": "stdout",
     "output_type": "stream",
     "text": [
      "Train RMSE (r=0): 0.52\n",
      "Val RMSE (r=0): 0.52\n",
      "Train RMSE (r=0.01): 0.52\n",
      "Val RMSE (r=0.01): 0.52\n",
      "Train RMSE (r=0.1): 0.52\n",
      "Val RMSE (r=0.1): 0.52\n",
      "Train RMSE (r=1): 0.53\n",
      "Val RMSE (r=1): 0.52\n",
      "Train RMSE (r=5): 0.53\n",
      "Val RMSE (r=5): 0.52\n",
      "Train RMSE (r=10): 0.53\n",
      "Val RMSE (r=10): 0.52\n",
      "Train RMSE (r=100): 0.53\n",
      "Val RMSE (r=100): 0.52\n",
      "\n",
      "Best r: 0\n"
     ]
    }
   ],
   "source": [
    "X_train_0, y_train_gt = prepare_data(df_train_0)\n",
    "X_val_0, y_val_gt = prepare_data(df_val_0)\n",
    "RMSE_min = float('inf')\n",
    "for r in [0, 0.01, 0.1, 1, 5, 10, 100]:\n",
    "    # Train the model\n",
    "    w0, w = train_linear_regression_reg(X_train_0, y_train_gt, r=r)\n",
    "    \n",
    "    # Infer on train set\n",
    "    y_train_pred = infer_linear_regression(X_train_0, w0, w)\n",
    "    rmse_train = rmse(y_train_gt, y_train_pred, decimals=2)\n",
    "    print('Train RMSE (r={}):'.format(r), rmse_train)\n",
    "\n",
    "    # Infer on validation set\n",
    "    y_val_pred = infer_linear_regression(X_val_0, w0, w)\n",
    "    rmse_val = rmse(y_val_gt, y_val_pred, decimals=2)\n",
    "    print('Val RMSE (r={}):'.format(r), rmse_val)\n",
    "\n",
    "    # Keep best r -> use \"<\", such way that we get the smallest r in case of ties\n",
    "    if rmse_val < RMSE_min:\n",
    "        RMSE_min = rmse_val\n",
    "        r_best = r\n",
    "\n",
    "print('\\nBest r:', r_best)\n"
   ]
  },
  {
   "cell_type": "markdown",
   "id": "60b5d4e9",
   "metadata": {},
   "source": [
    "# 5. Varying the seed"
   ]
  },
  {
   "cell_type": "code",
   "execution_count": 56,
   "id": "2dd98189",
   "metadata": {},
   "outputs": [
    {
     "name": "stdout",
     "output_type": "stream",
     "text": [
      "0.007483314773547889\n",
      "RMSE std: 0.007\n"
     ]
    }
   ],
   "source": [
    "seeds = range(10)\n",
    "rmse_list = []\n",
    "for seed in seeds:\n",
    "    # Perform index randomization\n",
    "    np.random.seed(seed)\n",
    "    idx = np.arange(n)\n",
    "    np.random.shuffle(idx)\n",
    "\n",
    "    # 60/20/20 distribution\n",
    "    n_val = int(0.2 * n)\n",
    "    n_test = int(0.2 * n)\n",
    "    n_train = n - (n_val + n_test)\n",
    "\n",
    "    df_train = df.iloc[idx[:n_train]]\n",
    "    df_val = df.iloc[idx[n_train:n_train+n_val]]\n",
    "    df_test = df.iloc[idx[n_train+n_val:]]\n",
    "    \n",
    "    # Fill with 0s\n",
    "    df_train_0 = df_train.fillna({'horsepower': 0})\n",
    "    df_val_0 = df_val.fillna({'horsepower': 0})\n",
    "    df_test_0 = df_test.fillna({'horsepower': 0})\n",
    "\n",
    "    # Getting X and y columns\n",
    "    X_train_0, y_train_gt = prepare_data(df_train_0)\n",
    "    X_val_0, y_val_gt = prepare_data(df_val_0)\n",
    "\n",
    "    # Train the model\n",
    "    w0, w = train_linear_regression(X_train_0, y_train_gt)\n",
    "\n",
    "    # Infer on validation set\n",
    "    y_val_pred = infer_linear_regression(X_val_0, w0, w)\n",
    "    rmse_val = rmse(y_val_gt, y_val_pred, decimals=2)\n",
    "    rmse_list.append(rmse_val)\n",
    "\n",
    "# Print standard deviation\n",
    "print(np.std(rmse_list))\n",
    "print('RMSE std:', round(np.std(rmse_list), 3))"
   ]
  },
  {
   "cell_type": "markdown",
   "id": "8abb989f",
   "metadata": {},
   "source": [
    "# 6. Predicton on Test Set"
   ]
  },
  {
   "cell_type": "code",
   "execution_count": 58,
   "id": "3ccfa7fd",
   "metadata": {},
   "outputs": [
    {
     "name": "stdout",
     "output_type": "stream",
     "text": [
      "Test RMSE: 0.516\n"
     ]
    }
   ],
   "source": [
    "# Perform index randomization\n",
    "seed = 9\n",
    "np.random.seed(seed)\n",
    "idx = np.arange(n)\n",
    "np.random.shuffle(idx)\n",
    "\n",
    "# 60/20/20 distribution\n",
    "n_test = int(0.2 * n)\n",
    "n_train = n - n_test\n",
    "\n",
    "df_train = df.iloc[idx[:n_train]]\n",
    "df_test = df.iloc[idx[n_train:]]\n",
    "\n",
    "# Fill with 0s\n",
    "df_train_0 = df_train.fillna({'horsepower': 0})\n",
    "df_test_0 = df_test.fillna({'horsepower': 0})\n",
    "\n",
    "# Getting X and y columns\n",
    "X_train_0, y_train_gt = prepare_data(df_train_0)\n",
    "X_test_0, y_test_gt = prepare_data(df_test_0)\n",
    "# print(len(X_train_0), len(X_test_0))\n",
    "\n",
    "# Train the model\n",
    "w0, w = train_linear_regression_reg(X_train_0, y_train_gt, r=0.001)\n",
    "\n",
    "# Infer on test set\n",
    "y_test_pred = infer_linear_regression(X_test_0, w0, w)\n",
    "rmse_test = rmse(y_test_gt, y_test_pred, decimals=3)\n",
    "print('Test RMSE:', rmse_test)"
   ]
  }
 ],
 "metadata": {
  "kernelspec": {
   "display_name": "mlzoomcamp",
   "language": "python",
   "name": "python3"
  },
  "language_info": {
   "codemirror_mode": {
    "name": "ipython",
    "version": 3
   },
   "file_extension": ".py",
   "mimetype": "text/x-python",
   "name": "python",
   "nbconvert_exporter": "python",
   "pygments_lexer": "ipython3",
   "version": "3.12.11"
  }
 },
 "nbformat": 4,
 "nbformat_minor": 5
}
