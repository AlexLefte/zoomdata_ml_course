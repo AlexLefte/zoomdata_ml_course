{
 "cells": [
  {
   "cell_type": "markdown",
   "id": "31d468db",
   "metadata": {},
   "source": [
    "# Imports & Dataset Setup"
   ]
  },
  {
   "cell_type": "code",
   "execution_count": 54,
   "id": "0e5e14ba",
   "metadata": {},
   "outputs": [],
   "source": [
    "import numpy as np\n",
    "import pandas as pd"
   ]
  },
  {
   "cell_type": "code",
   "execution_count": 3,
   "id": "8cf10284",
   "metadata": {},
   "outputs": [
    {
     "name": "stderr",
     "output_type": "stream",
     "text": [
      "  % Total    % Received % Xferd  Average Speed   Time    Time     Time  Current\n",
      "                                 Dload  Upload   Total   Spent    Left  Speed\n",
      "\n",
      "  0     0    0     0    0     0      0      0 --:--:-- --:--:-- --:--:--     0\n",
      "100  853k  100  853k    0     0  2289k      0 --:--:-- --:--:-- --:--:-- 2301k\n"
     ]
    }
   ],
   "source": [
    "# Download the dataset\n",
    "!curl https://raw.githubusercontent.com/alexeygrigorev/datasets/master/car_fuel_efficiency.csv -o car_fuel_efficiency.csv"
   ]
  },
  {
   "cell_type": "markdown",
   "id": "709c8122",
   "metadata": {},
   "source": [
    "# Q1 Pandas version\n",
    "What's the version of Pandas that you installed?"
   ]
  },
  {
   "cell_type": "code",
   "execution_count": 9,
   "id": "fdd7d75a",
   "metadata": {},
   "outputs": [
    {
     "name": "stdout",
     "output_type": "stream",
     "text": [
      "Pandas version: 2.3.2\n"
     ]
    }
   ],
   "source": [
    "print(f\"Pandas version: {pd.__version__}\")"
   ]
  },
  {
   "cell_type": "markdown",
   "id": "7e31e398",
   "metadata": {},
   "source": [
    "# Q2. Records count\n",
    "How many records are in the dataset?"
   ]
  },
  {
   "cell_type": "code",
   "execution_count": 10,
   "id": "4a720e27",
   "metadata": {},
   "outputs": [
    {
     "name": "stdout",
     "output_type": "stream",
     "text": [
      "Records count: 9704\n"
     ]
    }
   ],
   "source": [
    "df = pd.read_csv(\"car_fuel_efficiency.csv\")\n",
    "print(\"Records count:\", len(df))"
   ]
  },
  {
   "cell_type": "markdown",
   "id": "a6ee8716",
   "metadata": {},
   "source": [
    "# Q3. Fuel types\n",
    "How many fuel types are presented in the dataset?"
   ]
  },
  {
   "cell_type": "code",
   "execution_count": 12,
   "id": "4abb9ad0",
   "metadata": {},
   "outputs": [
    {
     "data": {
      "text/html": [
       "<div>\n",
       "<style scoped>\n",
       "    .dataframe tbody tr th:only-of-type {\n",
       "        vertical-align: middle;\n",
       "    }\n",
       "\n",
       "    .dataframe tbody tr th {\n",
       "        vertical-align: top;\n",
       "    }\n",
       "\n",
       "    .dataframe thead th {\n",
       "        text-align: right;\n",
       "    }\n",
       "</style>\n",
       "<table border=\"1\" class=\"dataframe\">\n",
       "  <thead>\n",
       "    <tr style=\"text-align: right;\">\n",
       "      <th></th>\n",
       "      <th>engine_displacement</th>\n",
       "      <th>num_cylinders</th>\n",
       "      <th>horsepower</th>\n",
       "      <th>vehicle_weight</th>\n",
       "      <th>acceleration</th>\n",
       "      <th>model_year</th>\n",
       "      <th>origin</th>\n",
       "      <th>fuel_type</th>\n",
       "      <th>drivetrain</th>\n",
       "      <th>num_doors</th>\n",
       "      <th>fuel_efficiency_mpg</th>\n",
       "    </tr>\n",
       "  </thead>\n",
       "  <tbody>\n",
       "    <tr>\n",
       "      <th>0</th>\n",
       "      <td>170</td>\n",
       "      <td>3.0</td>\n",
       "      <td>159.0</td>\n",
       "      <td>3413.433759</td>\n",
       "      <td>17.7</td>\n",
       "      <td>2003</td>\n",
       "      <td>Europe</td>\n",
       "      <td>Gasoline</td>\n",
       "      <td>All-wheel drive</td>\n",
       "      <td>0.0</td>\n",
       "      <td>13.231729</td>\n",
       "    </tr>\n",
       "    <tr>\n",
       "      <th>1</th>\n",
       "      <td>130</td>\n",
       "      <td>5.0</td>\n",
       "      <td>97.0</td>\n",
       "      <td>3149.664934</td>\n",
       "      <td>17.8</td>\n",
       "      <td>2007</td>\n",
       "      <td>USA</td>\n",
       "      <td>Gasoline</td>\n",
       "      <td>Front-wheel drive</td>\n",
       "      <td>0.0</td>\n",
       "      <td>13.688217</td>\n",
       "    </tr>\n",
       "    <tr>\n",
       "      <th>2</th>\n",
       "      <td>170</td>\n",
       "      <td>NaN</td>\n",
       "      <td>78.0</td>\n",
       "      <td>3079.038997</td>\n",
       "      <td>15.1</td>\n",
       "      <td>2018</td>\n",
       "      <td>Europe</td>\n",
       "      <td>Gasoline</td>\n",
       "      <td>Front-wheel drive</td>\n",
       "      <td>0.0</td>\n",
       "      <td>14.246341</td>\n",
       "    </tr>\n",
       "    <tr>\n",
       "      <th>3</th>\n",
       "      <td>220</td>\n",
       "      <td>4.0</td>\n",
       "      <td>NaN</td>\n",
       "      <td>2542.392402</td>\n",
       "      <td>20.2</td>\n",
       "      <td>2009</td>\n",
       "      <td>USA</td>\n",
       "      <td>Diesel</td>\n",
       "      <td>All-wheel drive</td>\n",
       "      <td>2.0</td>\n",
       "      <td>16.912736</td>\n",
       "    </tr>\n",
       "    <tr>\n",
       "      <th>4</th>\n",
       "      <td>210</td>\n",
       "      <td>1.0</td>\n",
       "      <td>140.0</td>\n",
       "      <td>3460.870990</td>\n",
       "      <td>14.4</td>\n",
       "      <td>2009</td>\n",
       "      <td>Europe</td>\n",
       "      <td>Gasoline</td>\n",
       "      <td>All-wheel drive</td>\n",
       "      <td>2.0</td>\n",
       "      <td>12.488369</td>\n",
       "    </tr>\n",
       "  </tbody>\n",
       "</table>\n",
       "</div>"
      ],
      "text/plain": [
       "   engine_displacement  num_cylinders  horsepower  vehicle_weight  \\\n",
       "0                  170            3.0       159.0     3413.433759   \n",
       "1                  130            5.0        97.0     3149.664934   \n",
       "2                  170            NaN        78.0     3079.038997   \n",
       "3                  220            4.0         NaN     2542.392402   \n",
       "4                  210            1.0       140.0     3460.870990   \n",
       "\n",
       "   acceleration  model_year  origin fuel_type         drivetrain  num_doors  \\\n",
       "0          17.7        2003  Europe  Gasoline    All-wheel drive        0.0   \n",
       "1          17.8        2007     USA  Gasoline  Front-wheel drive        0.0   \n",
       "2          15.1        2018  Europe  Gasoline  Front-wheel drive        0.0   \n",
       "3          20.2        2009     USA    Diesel    All-wheel drive        2.0   \n",
       "4          14.4        2009  Europe  Gasoline    All-wheel drive        2.0   \n",
       "\n",
       "   fuel_efficiency_mpg  \n",
       "0            13.231729  \n",
       "1            13.688217  \n",
       "2            14.246341  \n",
       "3            16.912736  \n",
       "4            12.488369  "
      ]
     },
     "execution_count": 12,
     "metadata": {},
     "output_type": "execute_result"
    }
   ],
   "source": [
    "# Check csv columns first\n",
    "df.head()"
   ]
  },
  {
   "cell_type": "code",
   "execution_count": 13,
   "id": "ddc1cf55",
   "metadata": {},
   "outputs": [
    {
     "name": "stdout",
     "output_type": "stream",
     "text": [
      "Types of fuel: 2\n"
     ]
    }
   ],
   "source": [
    "types_of_fuel = df[\"fuel_type\"].nunique()\n",
    "print(f\"Types of fuel: {types_of_fuel}\")"
   ]
  },
  {
   "cell_type": "markdown",
   "id": "ec44f583",
   "metadata": {},
   "source": [
    "# Q4. Missing values\n",
    "How many columns in the dataset have missing values?"
   ]
  },
  {
   "cell_type": "code",
   "execution_count": 26,
   "id": "af62dec1",
   "metadata": {},
   "outputs": [
    {
     "name": "stdout",
     "output_type": "stream",
     "text": [
      "4\n"
     ]
    }
   ],
   "source": [
    "# Get NaN and empty values\n",
    "nan_missing = df.isnull().sum()  # NaN values\n",
    "empty_missing = (df == \"\").sum()  # Empty values \"\"\n",
    "total_missing = nan_missing + empty_missing\n",
    "\n",
    "# Print # columns with missing values\n",
    "print((total_missing > 0).sum())"
   ]
  },
  {
   "cell_type": "markdown",
   "id": "19122f57",
   "metadata": {},
   "source": [
    "# Q5. Max fuel efficiency\n",
    "What's the maximum fuel efficiency of cars from Asia?"
   ]
  },
  {
   "cell_type": "code",
   "execution_count": 36,
   "id": "d800c64d",
   "metadata": {},
   "outputs": [
    {
     "name": "stdout",
     "output_type": "stream",
     "text": [
      "Max fuel efficiency for cars from Asia: 23.7591 mpg.\n"
     ]
    }
   ],
   "source": [
    "# Get Asian cars\n",
    "asian_cars = df[df[\"origin\"] == \"Asia\"]\n",
    "\n",
    "# Get max fuel efficiency\n",
    "max_mpg_asia = asian_cars[\"fuel_efficiency_mpg\"].max()\n",
    "print(f\"Max fuel efficiency for cars from Asia: {max_mpg_asia:.4f} mpg.\")"
   ]
  },
  {
   "cell_type": "markdown",
   "id": "941d282e",
   "metadata": {},
   "source": [
    "# Q6. Median value of horsepower\n",
    "1. Find the median value of `horsepower` column in the dataset.\n",
    "2. Next, calculate the most frequent value of the same `horsepower` column.\n",
    "3. Use `fillna` method to fill the missing values in `horsepower` column with the most frequent value from the previous step.\n",
    "4. Now, calculate the median value of `horsepower` once again."
   ]
  },
  {
   "cell_type": "code",
   "execution_count": 43,
   "id": "a5beb782",
   "metadata": {},
   "outputs": [
    {
     "name": "stdout",
     "output_type": "stream",
     "text": [
      "Initial median value: 149.0 hp.\n",
      "Most frequent value: 152.0 hp.\n",
      "Final median value: 152.0 hp.\n"
     ]
    }
   ],
   "source": [
    "# 1. Find the median value\n",
    "df_hp = df[\"horsepower\"]\n",
    "median_val = df_hp.median()\n",
    "print(f\"Initial median value: {median_val} hp.\")\n",
    "\n",
    "# 2. Calculate the most frequent value\n",
    "most_freq_val = df_hp.mode()[0]\n",
    "print(f\"Most frequent value: {most_freq_val} hp.\")\n",
    "\n",
    "# 3. Fill missing values\n",
    "df_hp = df_hp.fillna(most_freq_val)\n",
    "\n",
    "# 4. Compute median again\n",
    "median_val = df_hp.median()\n",
    "print(f\"Final median value: {median_val} hp.\")"
   ]
  },
  {
   "cell_type": "markdown",
   "id": "13cb9a3f",
   "metadata": {},
   "source": [
    "# Q.7 Sum of weights\n",
    "1. Select all the cars from Asia\n",
    "2. Select only columns `vehicle_weight` and `model_year`\n",
    "3. Select the first 7 values\n",
    "4. Get the underlying NumPy array. Let's call it `X`.\n",
    "5. Compute matrix-matrix multiplication between the transpose of `X` and `X`. To get the transpose, use `X.T`. Let's call the result `XTX`.\n",
    "6. Invert `XTX`.\n",
    "7. Create an array `y` with values `[1100, 1300, 800, 900, 1000, 1100, 1200]`.\n",
    "8. Multiply the inverse of `XTX` with the transpose of `X`, and then multiply the result by `y`. Call the result `w`.\n",
    "9. What's the sum of all the elements of the result?\n",
    "\n",
    "> **Note**: You just implemented linear regression. We'll talk about it in the next lesson."
   ]
  },
  {
   "cell_type": "code",
   "execution_count": 55,
   "id": "eca3233d",
   "metadata": {},
   "outputs": [
    {
     "name": "stdout",
     "output_type": "stream",
     "text": [
      "Number of Asian cars: 3247.\n",
      "Selected columns:\n",
      "    vehicle_weight  model_year\n",
      "8      2714.219310        2016\n",
      "12     2783.868974        2010\n",
      "14     3582.687368        2007\n",
      "20     2231.808142        2011\n",
      "21     2659.431451        2016\n",
      "    vehicle_weight  model_year\n",
      "8      2714.219310        2016\n",
      "12     2783.868974        2010\n",
      "14     3582.687368        2007\n",
      "20     2231.808142        2011\n",
      "21     2659.431451        2016\n",
      "34     2844.227534        2014\n",
      "38     3761.994038        2019\n",
      "[[2714.21930965 2016.        ]\n",
      " [2783.86897424 2010.        ]\n",
      " [3582.68736772 2007.        ]\n",
      " [2231.8081416  2011.        ]\n",
      " [2659.43145076 2016.        ]\n",
      " [2844.22753389 2014.        ]\n",
      " [3761.99403819 2019.        ]]\n",
      "Sum of elements: 0.5187709081074007.\n"
     ]
    }
   ],
   "source": [
    "# 1. Cars from Asia\n",
    "df_asian_cars = df[df['origin'] == 'Asia']\n",
    "# print(df_asian_cars.head())\n",
    "print(f\"Number of Asian cars: {len(df_asian_cars)}.\")\n",
    "\n",
    "# 2. Select only the `vehicle_weight` and `model_year` columns\n",
    "df_asian_cars = df_asian_cars[[\"vehicle_weight\", \"model_year\"]]\n",
    "print(\"Selected columns:\")\n",
    "print(df_asian_cars.head())\n",
    "\n",
    "# 3. First 7 vals\n",
    "df_asian_cars = df_asian_cars.head(7)\n",
    "print(df_asian_cars)\n",
    "\n",
    "# 4. Make it a numpy array\n",
    "X = df_asian_cars.to_numpy()\n",
    "print(X)\n",
    "\n",
    "# 5. Compute matrix mult\n",
    "XTX = X.T @ X\n",
    "\n",
    "# 6. Invert\n",
    "XTX_inv = np.linalg.inv(XTX)\n",
    "\n",
    "# 7. Create the y array\n",
    "y = np.array([1100, 1300, 800, 900, 1000, 1100, 1200])\n",
    "\n",
    "# 8. Multiply\n",
    "w = XTX_inv @ X.T @ y\n",
    "\n",
    "# 9. Sum of all elements\n",
    "print(f\"Sum of elements: {w.sum()}.\")"
   ]
  }
 ],
 "metadata": {
  "kernelspec": {
   "display_name": "ml-zoomcamp",
   "language": "python",
   "name": "python3"
  },
  "language_info": {
   "codemirror_mode": {
    "name": "ipython",
    "version": 3
   },
   "file_extension": ".py",
   "mimetype": "text/x-python",
   "name": "python",
   "nbconvert_exporter": "python",
   "pygments_lexer": "ipython3",
   "version": "3.12.11"
  }
 },
 "nbformat": 4,
 "nbformat_minor": 5
}
